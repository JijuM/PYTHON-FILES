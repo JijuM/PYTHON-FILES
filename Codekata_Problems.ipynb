{
  "nbformat": 4,
  "nbformat_minor": 0,
  "metadata": {
    "colab": {
      "provenance": []
    },
    "kernelspec": {
      "name": "python3",
      "display_name": "Python 3"
    },
    "language_info": {
      "name": "python"
    }
  },
  "cells": [
    {
      "cell_type": "markdown",
      "source": [
        "Write a code to get the input in the given format and print the output in the given format.\n",
        "1.Sample Input :\n",
        "guvi\n",
        "Sample Output :\n",
        "g,u,v,i\n"
      ],
      "metadata": {
        "id": "-YX3-TEUoWlf"
      }
    },
    {
      "cell_type": "code",
      "source": [
        "A=input()\n",
        "B=(\",\".join(A))\n",
        "print(B)"
      ],
      "metadata": {
        "id": "HLFHO7jioZwh"
      },
      "execution_count": null,
      "outputs": []
    },
    {
      "cell_type": "markdown",
      "source": [
        "2.Sample Input :\n",
        "2 3 4 5 6 7 8\n",
        "\n",
        "Sample Output :\n",
        "2 3 4 5 6 7 8\n",
        "\n"
      ],
      "metadata": {
        "id": "lmpq0lGloVBM"
      }
    },
    {
      "cell_type": "code",
      "source": [
        "A=input().split(' ')\n",
        "B=list(map(int,A))\n",
        "print(*B)"
      ],
      "metadata": {
        "id": "MfUo-76ooV5s"
      },
      "execution_count": null,
      "outputs": []
    },
    {
      "cell_type": "markdown",
      "source": [
        "3.Sample Input :\n",
        "5 3\n",
        "1 2 3 4 5\n",
        "Sample Output :\n",
        "5 3\n",
        "1 2 3 4 5"
      ],
      "metadata": {
        "id": "BGjNMBCXoe23"
      }
    },
    {
      "cell_type": "code",
      "source": [
        "K=input().split(' ')\n",
        "Y=list(map(int,K))\n",
        "Z=input().split(' ')\n",
        "R=list(map(int,Z))\n",
        "print(*Y)\n",
        "print(*R)"
      ],
      "metadata": {
        "id": "fDJustkYohCB"
      },
      "execution_count": null,
      "outputs": []
    },
    {
      "cell_type": "markdown",
      "source": [
        "\n",
        "4.Sample Input :\n",
        "guvi\n",
        "Sample Output :\n",
        "g u v i\n"
      ],
      "metadata": {
        "id": "ZMvN7vkUokC6"
      }
    },
    {
      "cell_type": "code",
      "source": [
        "A=input()\n",
        "print(\" \".join(A))\n"
      ],
      "metadata": {
        "id": "t3l1SGp9om4U"
      },
      "execution_count": null,
      "outputs": []
    },
    {
      "cell_type": "markdown",
      "source": [
        "5.Sample Input :\n",
        "2.3 4.5 7.8\n",
        "Sample Output :\n",
        "2.3\n",
        "4.5\n",
        "7.8"
      ],
      "metadata": {
        "id": "dL6ogIotopAE"
      }
    },
    {
      "cell_type": "code",
      "source": [
        "A=input().split()\n",
        "B=list(map(float,A))\n",
        "for k in B:\n",
        "    print(k)"
      ],
      "metadata": {
        "id": "ZzF4Qv-Voqie"
      },
      "execution_count": null,
      "outputs": []
    },
    {
      "cell_type": "markdown",
      "source": [
        "6.Sample Input :\n",
        "guvigeek\n",
        "Sample Output :\n",
        "g\n",
        "u\n",
        "v\n",
        "i\n",
        "g\n",
        "e\n",
        "e\n",
        "k\n"
      ],
      "metadata": {
        "id": "rcyhYFJLouDw"
      }
    },
    {
      "cell_type": "code",
      "source": [
        "A=input()\n",
        "for i in A:\n",
        "    print(i)"
      ],
      "metadata": {
        "id": "ZAjk6XYBovnE"
      },
      "execution_count": null,
      "outputs": []
    },
    {
      "cell_type": "markdown",
      "source": [
        "7.Find the minimum among 10 numbers.\n",
        "Sample Testcase :\n",
        "INPUT:\n",
        "5 4 3 2 1 7 6 10 8 9\n",
        "OUTPUT:\n",
        "1\n"
      ],
      "metadata": {
        "id": "6KCOe0q9oxkJ"
      }
    },
    {
      "cell_type": "code",
      "source": [
        "N=input().split()\n",
        "print(min(N))"
      ],
      "metadata": {
        "id": "64XdZ-FHo4Rw"
      },
      "execution_count": null,
      "outputs": []
    },
    {
      "cell_type": "markdown",
      "source": [
        "8.You are provided with a number ’n’. Your task is to tell whether that number is saturated. A saturated number is a number which is made by exactly two digits.\n",
        "Input Description:You are given with a number n.\n",
        "Output Description:Print Saturated if it is saturated else it is Unsaturated\n",
        "Sample Input :\n",
        "121\n",
        "Sample Output :\n",
        "Saturated\n"
      ],
      "metadata": {
        "id": "O6mLDksOo8b1"
      }
    },
    {
      "cell_type": "code",
      "source": [
        "A=\",\".join(input())\n",
        "B=A.split(\",\")\n",
        "C=list(map(int,B))\n",
        "D=[]\n",
        "#print(C)\n",
        "\n",
        "for i in range(0,len(C)):\n",
        "   if C[i] not in D:\n",
        "       D.append(C[i])\n",
        "       \n",
        "if len(D)<2:\n",
        "    print(\"Unsaturated\")\n",
        "elif len(D)>2:\n",
        "    print(\"Unsaturated\")\n",
        "else:\n",
        "    print(\"Saturated\")\n",
        "    "
      ],
      "metadata": {
        "id": "fsBzZYodo_x0"
      },
      "execution_count": null,
      "outputs": []
    },
    {
      "cell_type": "markdown",
      "source": [
        "9.Given a number N, print yes if the number is a multiple of 7 else print no.Sample Testcase :\n",
        "INPUT\n",
        "49\n",
        "OUTPUT\n",
        "yes\n"
      ],
      "metadata": {
        "id": "5OqggdxypECb"
      }
    },
    {
      "cell_type": "code",
      "source": [
        "A=int(input())\n",
        "if A%7==0:\n",
        "    print('yes')\n",
        "else:\n",
        "    print('no')\n",
        "\n"
      ],
      "metadata": {
        "id": "1hwuF00SpHQu"
      },
      "execution_count": null,
      "outputs": []
    },
    {
      "cell_type": "markdown",
      "source": [
        "10.You are given with an array of numbers, Your task is to print the difference of indices of largest and smallest number.All number are unique.\n",
        "Input Description:First line contains a number ‘n’. Then next line contains n space separated numbers.\n",
        "Output Description:Print the difference of indices of largest and smallest array\n",
        "Sample Input :\n",
        "5\n",
        "1 6 4 0 3\n",
        "Sample Output :\n",
        "-2"
      ],
      "metadata": {
        "id": "gLt0uLzxpInO"
      }
    },
    {
      "cell_type": "code",
      "source": [
        "A=int(input())\n",
        "B=list(map(int,input().split()))\n",
        "print(B.index(max(B))-B.index(min(B)))"
      ],
      "metadata": {
        "id": "S8RCJ_k8pQLV"
      },
      "execution_count": null,
      "outputs": []
    },
    {
      "cell_type": "markdown",
      "source": [
        "11.you are given with array of numbers.you have to find whether array is beautiful or not. A beautiful array is an array whose sum of all numbers is divisible by 2, 3 and 5\n",
        "Input Description:You are given a number ‘n’ denoting the size of array.Next line contains n space separated numbers.\n",
        "Output Description:Print 1 if array is beautiful and 0 if it is not\n",
        "Sample Input :\n",
        "5\n",
        "5 25 35 -5 30\n",
        "Sample Output :\n",
        "1\n"
      ],
      "metadata": {
        "id": "xElKF4OxpSDK"
      }
    },
    {
      "cell_type": "code",
      "source": [
        "N=int(input())\n",
        "l=input().split()\n",
        "L=list(map(int,l))\n",
        "Sum=sum(L)\n",
        "if (Sum%2==0):\n",
        "    if Sum%3==0:\n",
        "        if Sum%5==0:\n",
        "            X=1\n",
        "else:\n",
        "    X=0\n",
        "    \n",
        "print(X)\n"
      ],
      "metadata": {
        "id": "9BryRGiQpUjQ"
      },
      "execution_count": null,
      "outputs": []
    },
    {
      "cell_type": "markdown",
      "source": [
        "12.Ria is a 5 year old girl. Her mother wants to teach her how to sort words in the same order that they appear in a dictionary. She decides to write a program to sort a given set of strings based on their alphabetical order. Help Ria’s mother to complete the program.\n",
        "Input Description:A set of N strings\n",
        "Output Description:Alphabetically sorted set of strings\n",
        "Sample Input :\n",
        "3\n",
        "InfinityWar EndGame Avengers\n",
        "Sample Output :\n",
        "Avengers EndGame InfinityWar\n"
      ],
      "metadata": {
        "id": "enSKPXp1pWxH"
      }
    },
    {
      "cell_type": "code",
      "source": [
        "n=int(input())\n",
        "L=input().split()\n",
        "L.sort()\n",
        "print(*L)\n"
      ],
      "metadata": {
        "id": "VoFwLSV6pa-t"
      },
      "execution_count": null,
      "outputs": []
    }
  ]
}